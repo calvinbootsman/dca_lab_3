{
 "cells": [
  {
   "cell_type": "code",
   "execution_count": 43,
   "id": "89b38cd1",
   "metadata": {},
   "outputs": [
    {
     "name": "stdout",
     "output_type": "stream",
     "text": [
      "<class 'torch.Tensor'>\n",
      "torch.Size([64, 1, 28, 28])\n",
      "torch.Size([64])\n",
      "Epoch: 1/15.. Training loss: 0.914.. Test loss: 0.557.. Test Accuracy: 0.795\n",
      "Epoch: 2/15.. Training loss: 0.558.. Test loss: 0.481.. Test Accuracy: 0.823\n",
      "Epoch: 3/15.. Training loss: 0.490.. Test loss: 0.451.. Test Accuracy: 0.835\n",
      "Epoch: 4/15.. Training loss: 0.452.. Test loss: 0.424.. Test Accuracy: 0.846\n",
      "Epoch: 5/15.. Training loss: 0.425.. Test loss: 0.411.. Test Accuracy: 0.850\n",
      "Epoch: 6/15.. Training loss: 0.401.. Test loss: 0.393.. Test Accuracy: 0.855\n",
      "Epoch: 7/15.. Training loss: 0.385.. Test loss: 0.383.. Test Accuracy: 0.860\n",
      "Epoch: 8/15.. Training loss: 0.373.. Test loss: 0.374.. Test Accuracy: 0.865\n",
      "Epoch: 9/15.. Training loss: 0.359.. Test loss: 0.373.. Test Accuracy: 0.866\n",
      "Epoch: 10/15.. Training loss: 0.349.. Test loss: 0.356.. Test Accuracy: 0.873\n",
      "Epoch: 11/15.. Training loss: 0.337.. Test loss: 0.360.. Test Accuracy: 0.871\n",
      "Epoch: 12/15.. Training loss: 0.331.. Test loss: 0.349.. Test Accuracy: 0.876\n",
      "Epoch: 13/15.. Training loss: 0.321.. Test loss: 0.345.. Test Accuracy: 0.875\n",
      "Epoch: 14/15.. Training loss: 0.315.. Test loss: 0.340.. Test Accuracy: 0.881\n",
      "Epoch: 15/15.. Training loss: 0.307.. Test loss: 0.339.. Test Accuracy: 0.879\n"
     ]
    },
    {
     "data": {
      "text/plain": [
       "<matplotlib.legend.Legend at 0x1da59fd7950>"
      ]
     },
     "execution_count": 43,
     "metadata": {},
     "output_type": "execute_result"
    },
    {
     "data": {
      "image/png": "[encoded data removed]",
      "text/plain": [
       "<Figure size 640x480 with 1 Axes>"
      ]
     },
     "metadata": {},
     "output_type": "display_data"
    }
   ],
   "source": [
    "# Import the necessary libraries\n",
    "#%%\n",
    "import numpy as np\n",
    "import torch\n",
    "import matplotlib.pyplot as plt\n",
    "from torchvision import datasets, transforms\n",
    "from torch import nn, optim\n",
    "import torch.nn.functional as F\n",
    "\n",
    "# Define a transform to normalize the data\n",
    "transform = transforms.Compose([transforms.ToTensor(),\n",
    "                                transforms.Normalize((0.5,), (0.5,))\n",
    "                               ])\n",
    "\n",
    "# Download and load the training data\n",
    "trainset = datasets.FashionMNIST('MNIST_data/', download = True, train = True, transform = transform)\n",
    "testset = datasets.FashionMNIST('MNIST_data/', download = True, train = False, transform = transform)\n",
    "trainloader = torch.utils.data.DataLoader(trainset, batch_size = 64, shuffle = True)\n",
    "testloader = torch.utils.data.DataLoader(testset, batch_size = 64, shuffle = True)\n",
    "     \n",
    "# Examine a sample\n",
    "dataiter = iter(trainloader)\n",
    "images, labels = next(dataiter)\n",
    "print(type(images))\n",
    "print(images.shape)\n",
    "print(labels.shape)\n",
    "     \n",
    "model = nn.Sequential(nn.Linear(784, 256),\n",
    "            nn.ReLU(),\n",
    "            nn.Dropout(0.2),\n",
    "            nn.Linear(256, 128),\n",
    "            nn.ReLU(),\n",
    "            nn.Dropout(0.2),\n",
    "            nn.Linear(128, 64),\n",
    "            nn.ReLU(),\n",
    "            nn.Dropout(0.2),\n",
    "            nn.Linear(64, 10),\n",
    "            # nn.Softmax(dim=1)\n",
    "           )\n",
    "\n",
    "# Define the loss\n",
    "criterion = nn.CrossEntropyLoss()\n",
    "\n",
    "# Define the optimizer\n",
    "optimizer = optim.Adam(model.parameters(), lr = 0.0001)\n",
    "\n",
    "# Define the epochs\n",
    "epochs = 15\n",
    "\n",
    "train_losses, test_losses = [], []\n",
    "\n",
    "for e in range(epochs):\n",
    "  running_loss = 0\n",
    "  for images, labels in trainloader:\n",
    "    # Flatten Fashion-MNIST images into a 784 long vector\n",
    "    images = images.view(images.shape[0], -1)\n",
    "    \n",
    "    # Training pass\n",
    "    optimizer.zero_grad()\n",
    "    \n",
    "    output = model.forward(images)\n",
    "    loss = criterion(output, labels)\n",
    "    loss.backward()\n",
    "    optimizer.step()\n",
    "    \n",
    "    running_loss += loss.item()\n",
    "  else:\n",
    "    test_loss = 0\n",
    "    accuracy = 0\n",
    "    \n",
    "    # Turn off gradients for validation, saves memory and computation\n",
    "    with torch.no_grad():\n",
    "      # Set the model to evaluation mode\n",
    "      model.eval()\n",
    "      \n",
    "      # Validation pass\n",
    "      for images, labels in testloader:\n",
    "        images = images.view(images.shape[0], -1)\n",
    "        log_ps = model(images)\n",
    "        test_loss += criterion(log_ps, labels)\n",
    "        \n",
    "        ps = torch.exp(log_ps)\n",
    "        top_p, top_class = ps.topk(1, dim = 1)\n",
    "        equals = top_class == labels.view(*top_class.shape)\n",
    "        accuracy += torch.mean(equals.type(torch.FloatTensor))\n",
    "    \n",
    "    model.train()\n",
    "    train_losses.append(running_loss/len(trainloader))\n",
    "    test_losses.append(test_loss/len(testloader))\n",
    "    \n",
    "    print(\"Epoch: {}/{}..\".format(e+1, epochs),\n",
    "          \"Training loss: {:.3f}..\".format(running_loss/len(trainloader)),\n",
    "          \"Test loss: {:.3f}..\".format(test_loss/len(testloader)),\n",
    "          \"Test Accuracy: {:.3f}\".format(accuracy/len(testloader)))\n",
    "#%%    \n",
    "plt.plot(train_losses, label = \"Training loss\")\n",
    "plt.plot(test_losses, label = \"Validation loss\")\n",
    "plt.legend(frameon = False)"
   ]
  },
  {
   "cell_type": "code",
   "execution_count": 44,
   "id": "c37bb38a",
   "metadata": {},
   "outputs": [],
   "source": [
    "torch.save(model.state_dict(), 'model.pth')"
   ]
  },
  {
   "cell_type": "code",
   "execution_count": 45,
   "id": "15bfbfb2",
   "metadata": {},
   "outputs": [
    {
     "data": {
      "text/plain": [
       "Sequential(\n",
       "  (0): Linear(in_features=784, out_features=256, bias=True)\n",
       "  (1): ReLU()\n",
       "  (2): Dropout(p=0.2, inplace=False)\n",
       "  (3): Linear(in_features=256, out_features=128, bias=True)\n",
       "  (4): ReLU()\n",
       "  (5): Dropout(p=0.2, inplace=False)\n",
       "  (6): Linear(in_features=128, out_features=64, bias=True)\n",
       "  (7): ReLU()\n",
       "  (8): Dropout(p=0.2, inplace=False)\n",
       "  (9): Linear(in_features=64, out_features=10, bias=True)\n",
       ")"
      ]
     },
     "execution_count": 45,
     "metadata": {},
     "output_type": "execute_result"
    }
   ],
   "source": [
    "model = nn.Sequential(nn.Linear(784, 256),\n",
    "            nn.ReLU(),\n",
    "            nn.Dropout(0.2),\n",
    "            nn.Linear(256, 128),\n",
    "            nn.ReLU(),\n",
    "            nn.Dropout(0.2),\n",
    "            nn.Linear(128, 64),\n",
    "            nn.ReLU(),\n",
    "            nn.Dropout(0.2),\n",
    "            nn.Linear(64, 10),\n",
    "            # nn.Softmax(dim=1)\n",
    "           )\n",
    "model.load_state_dict(torch.load('model.pth'))\n",
    "model.eval() "
   ]
  },
  {
   "cell_type": "code",
   "execution_count": 46,
   "id": "63d5600e",
   "metadata": {},
   "outputs": [
    {
     "data": {
      "image/png": "[encoded data removed]",
      "text/plain": [
       "<Figure size 600x900 with 2 Axes>"
      ]
     },
     "metadata": {},
     "output_type": "display_data"
    }
   ],
   "source": [
    "def view_classify(img, ps, version=\"MNIST\"):\n",
    "    ''' Function for viewing an image and it's predicted classes.\n",
    "    '''\n",
    "    ps = ps.data.numpy().squeeze()\n",
    "\n",
    "    fig, (ax1, ax2) = plt.subplots(figsize=(6,9), ncols=2)\n",
    "    ax1.imshow(img.resize_(1, 28, 28).numpy().squeeze())\n",
    "    ax1.axis('off')\n",
    "    ax2.barh(np.arange(10), ps)\n",
    "    ax2.set_aspect(0.1)\n",
    "    ax2.set_yticks(np.arange(10))\n",
    "    if version == \"MNIST\":\n",
    "        ax2.set_yticklabels(np.arange(10))\n",
    "    elif version == \"Fashion\":\n",
    "        ax2.set_yticklabels(['T-shirt/top',\n",
    "                            'Trouser',\n",
    "                            'Pullover',\n",
    "                            'Dress',\n",
    "                            'Coat',\n",
    "                            'Sandal',\n",
    "                            'Shirt',\n",
    "                            'Sneaker',\n",
    "                            'Bag',\n",
    "                            'Ankle Boot'], size='small')\n",
    "    ax2.set_title('Class Probability')\n",
    "    ax2.set_xlim(0, 1.1)\n",
    "\n",
    "    plt.tight_layout()  \n",
    "\n",
    "\n",
    "# Testing out the network\n",
    "dataiter = iter(trainloader)\n",
    "images, labels = next(dataiter)\n",
    "img = images[0]\n",
    "\n",
    "# Convert 2D image to 1D vector\n",
    "img = img.resize_(1, 784)\n",
    "\n",
    "with torch.no_grad():\n",
    "    # Calculate the class probabilities (softmax) for img\n",
    "    logps = model(img)\n",
    "    ps = (logps)\n",
    "# Calculate the class probabilites (log softmax) for img\n",
    "ps = (model(img))\n",
    "\n",
    "# Plot the image and probabilites\n",
    "view_classify(img, ps, version='Fashion')"
   ]
  },
  {
   "cell_type": "code",
   "execution_count": null,
   "id": "9737b0f5",
   "metadata": {},
   "outputs": [
    {
     "name": "stdout",
     "output_type": "stream",
     "text": [
      "Interpreting Model ...\n",
      "Topology:\n",
      "Layer name: _0, layer type: Dense, input shape: [[None, 1, 784]]\n",
      "Layer name: _1, layer type: Activation, input shape: [[None, 1, 256]]\n",
      "Layer name: _3, layer type: Dense, input shape: [[None, 1, 256]]\n",
      "Layer name: _4, layer type: Activation, input shape: [[None, 1, 128]]\n",
      "Layer name: _6, layer type: Dense, input shape: [[None, 1, 128]]\n",
      "Layer name: _7, layer type: Activation, input shape: [[None, 1, 64]]\n",
      "Layer name: _9, layer type: Dense, input shape: [[None, 1, 64]]\n",
      "Creating HLS model\n",
      "WARNING: You set a Part that does not correspond to the Board you specified. The correct Part is now set.\n",
      "Writing HLS project\n",
      "Done\n"
     ]
    },
    {
     "ename": "FileExistsError",
     "evalue": "[WinError 183] Cannot create a file when that file already exists: 'output/myproject_test_wrapper.cpp' -> 'output/myproject_test.cpp'",
     "output_type": "error",
     "traceback": [
      "\u001b[31m---------------------------------------------------------------------------\u001b[39m",
      "\u001b[31mFileExistsError\u001b[39m                           Traceback (most recent call last)",
      "\u001b[36mCell\u001b[39m\u001b[36m \u001b[39m\u001b[32mIn[48]\u001b[39m\u001b[32m, line 17\u001b[39m\n\u001b[32m      2\u001b[39m config = hls4ml.utils.config_from_pytorch_model(\n\u001b[32m      3\u001b[39m      model,\n\u001b[32m      4\u001b[39m      input_shape=(\u001b[32m1\u001b[39m, \u001b[32m784\u001b[39m),\n\u001b[32m      5\u001b[39m      granularity=\u001b[33m'\u001b[39m\u001b[33mname\u001b[39m\u001b[33m'\u001b[39m,\n\u001b[32m      6\u001b[39m      default_precision=\u001b[33m'\u001b[39m\u001b[33mfixed<16,6>\u001b[39m\u001b[33m'\u001b[39m,\n\u001b[32m      7\u001b[39m      backend=\u001b[33m'\u001b[39m\u001b[33mCatapult\u001b[39m\u001b[33m'\u001b[39m)\n\u001b[32m      9\u001b[39m hls_model = hls4ml.converters.convert_from_pytorch_model(\n\u001b[32m     10\u001b[39m      model,\n\u001b[32m     11\u001b[39m      hls_config=config,\n\u001b[32m   (...)\u001b[39m\u001b[32m     15\u001b[39m      board=\u001b[33m'\u001b[39m\u001b[33mpynq-z2\u001b[39m\u001b[33m'\u001b[39m,\n\u001b[32m     16\u001b[39m   )\n\u001b[32m---> \u001b[39m\u001b[32m17\u001b[39m \u001b[43mhls_model\u001b[49m\u001b[43m.\u001b[49m\u001b[43mcompile\u001b[49m\u001b[43m(\u001b[49m\u001b[43m)\u001b[49m\n\u001b[32m     18\u001b[39m \u001b[38;5;66;03m# hls_model.build(reset=True)\u001b[39;00m\n\u001b[32m     19\u001b[39m numpy_img = img.numpy()\n",
      "\u001b[36mFile \u001b[39m\u001b[32mc:\\Users\\calvi\\Documents\\Projects\\dca_lab_3\\.venv\\Lib\\site-packages\\hls4ml\\model\\graph.py:694\u001b[39m, in \u001b[36mModelGraph.compile\u001b[39m\u001b[34m(self)\u001b[39m\n\u001b[32m    689\u001b[39m \u001b[38;5;28;01mdef\u001b[39;00m\u001b[38;5;250m \u001b[39m\u001b[34mcompile\u001b[39m(\u001b[38;5;28mself\u001b[39m):\n\u001b[32m    690\u001b[39m \u001b[38;5;250m    \u001b[39m\u001b[33;03m\"\"\"Compile the generated project and link the library into current environment.\u001b[39;00m\n\u001b[32m    691\u001b[39m \n\u001b[32m    692\u001b[39m \u001b[33;03m    Users should call this function if they want to use `predict` functionality for simulation.\u001b[39;00m\n\u001b[32m    693\u001b[39m \u001b[33;03m    \"\"\"\u001b[39;00m\n\u001b[32m--> \u001b[39m\u001b[32m694\u001b[39m     \u001b[38;5;28;43mself\u001b[39;49m\u001b[43m.\u001b[49m\u001b[43mwrite\u001b[49m\u001b[43m(\u001b[49m\u001b[43m)\u001b[49m\n\u001b[32m    695\u001b[39m     \u001b[38;5;28mself\u001b[39m._compile()\n",
      "\u001b[36mFile \u001b[39m\u001b[32mc:\\Users\\calvi\\Documents\\Projects\\dca_lab_3\\.venv\\Lib\\site-packages\\hls4ml\\model\\graph.py:687\u001b[39m, in \u001b[36mModelGraph.write\u001b[39m\u001b[34m(self)\u001b[39m\n\u001b[32m    680\u001b[39m \u001b[38;5;28;01mdef\u001b[39;00m\u001b[38;5;250m \u001b[39m\u001b[34mwrite\u001b[39m(\u001b[38;5;28mself\u001b[39m):\n\u001b[32m    681\u001b[39m \u001b[38;5;250m    \u001b[39m\u001b[33;03m\"\"\"Write the generated project to disk.\u001b[39;00m\n\u001b[32m    682\u001b[39m \n\u001b[32m    683\u001b[39m \u001b[33;03m    This function converts the model to C++ and writes the generated files in the output\u001b[39;00m\n\u001b[32m    684\u001b[39m \u001b[33;03m    directory specified in the `config`.\u001b[39;00m\n\u001b[32m    685\u001b[39m \u001b[33;03m    \"\"\"\u001b[39;00m\n\u001b[32m--> \u001b[39m\u001b[32m687\u001b[39m     \u001b[38;5;28;43mself\u001b[39;49m\u001b[43m.\u001b[49m\u001b[43mconfig\u001b[49m\u001b[43m.\u001b[49m\u001b[43mbackend\u001b[49m\u001b[43m.\u001b[49m\u001b[43mwrite\u001b[49m\u001b[43m(\u001b[49m\u001b[38;5;28;43mself\u001b[39;49m\u001b[43m)\u001b[49m\n",
      "\u001b[36mFile \u001b[39m\u001b[32mc:\\Users\\calvi\\Documents\\Projects\\dca_lab_3\\.venv\\Lib\\site-packages\\hls4ml\\backends\\fpga\\fpga_backend.py:191\u001b[39m, in \u001b[36mFPGABackend.write\u001b[39m\u001b[34m(self, model)\u001b[39m\n\u001b[32m    181\u001b[39m \u001b[38;5;28;01mdef\u001b[39;00m\u001b[38;5;250m \u001b[39m\u001b[34mwrite\u001b[39m(\u001b[38;5;28mself\u001b[39m, model):\n\u001b[32m    182\u001b[39m \u001b[38;5;250m    \u001b[39m\u001b[33;03m\"\"\"Write the generated project to disk.\u001b[39;00m\n\u001b[32m    183\u001b[39m \n\u001b[32m    184\u001b[39m \u001b[33;03m    This function converts the model to C++ and writes the generated files in the output\u001b[39;00m\n\u001b[32m   (...)\u001b[39m\u001b[32m    188\u001b[39m \u001b[33;03m        model (ModelGraph): Model to write.\u001b[39;00m\n\u001b[32m    189\u001b[39m \u001b[33;03m    \"\"\"\u001b[39;00m\n\u001b[32m--> \u001b[39m\u001b[32m191\u001b[39m     \u001b[43mmodel\u001b[49m\u001b[43m.\u001b[49m\u001b[43mapply_flow\u001b[49m\u001b[43m(\u001b[49m\u001b[38;5;28;43mself\u001b[39;49m\u001b[43m.\u001b[49m\u001b[43mget_writer_flow\u001b[49m\u001b[43m(\u001b[49m\u001b[43m)\u001b[49m\u001b[43m)\u001b[49m\n",
      "\u001b[36mFile \u001b[39m\u001b[32mc:\\Users\\calvi\\Documents\\Projects\\dca_lab_3\\.venv\\Lib\\site-packages\\hls4ml\\model\\graph.py:411\u001b[39m, in \u001b[36mModelGraph.apply_flow\u001b[39m\u001b[34m(self, flow, reapply)\u001b[39m\n\u001b[32m    408\u001b[39m         \u001b[38;5;28;01mreturn\u001b[39;00m\n\u001b[32m    410\u001b[39m \u001b[38;5;28mself\u001b[39m._applied_flows.append(applied_flows)\n\u001b[32m--> \u001b[39m\u001b[32m411\u001b[39m \u001b[38;5;28;43mself\u001b[39;49m\u001b[43m.\u001b[49m\u001b[43m_apply_sub_flow\u001b[49m\u001b[43m(\u001b[49m\u001b[43mflow\u001b[49m\u001b[43m,\u001b[49m\u001b[43m \u001b[49m\u001b[43mapplied_flows\u001b[49m\u001b[43m)\u001b[49m\n",
      "\u001b[36mFile \u001b[39m\u001b[32mc:\\Users\\calvi\\Documents\\Projects\\dca_lab_3\\.venv\\Lib\\site-packages\\hls4ml\\model\\graph.py:423\u001b[39m, in \u001b[36mModelGraph._apply_sub_flow\u001b[39m\u001b[34m(self, flow_name, applied_flows)\u001b[39m\n\u001b[32m    420\u001b[39m         \u001b[38;5;28mself\u001b[39m._apply_sub_flow(sub_flow, applied_flows)\n\u001b[32m    422\u001b[39m \u001b[38;5;28;01mif\u001b[39;00m \u001b[38;5;28mlen\u001b[39m(flow.optimizers) > \u001b[32m0\u001b[39m:\n\u001b[32m--> \u001b[39m\u001b[32m423\u001b[39m     applied_passes = \u001b[43moptimize_model\u001b[49m\u001b[43m(\u001b[49m\u001b[38;5;28;43mself\u001b[39;49m\u001b[43m,\u001b[49m\u001b[43m \u001b[49m\u001b[43mflow\u001b[49m\u001b[43m.\u001b[49m\u001b[43moptimizers\u001b[49m\u001b[43m)\u001b[49m\n\u001b[32m    424\u001b[39m \u001b[38;5;28;01melse\u001b[39;00m:\n\u001b[32m    425\u001b[39m     applied_passes = \u001b[38;5;28mset\u001b[39m()\n",
      "\u001b[36mFile \u001b[39m\u001b[32mc:\\Users\\calvi\\Documents\\Projects\\dca_lab_3\\.venv\\Lib\\site-packages\\hls4ml\\model\\optimizer\\optimizer.py:312\u001b[39m, in \u001b[36moptimize_model\u001b[39m\u001b[34m(model, passes)\u001b[39m\n\u001b[32m    310\u001b[39m \u001b[38;5;28;01mfor\u001b[39;00m opt_name, opt \u001b[38;5;129;01min\u001b[39;00m optimizers.items():\n\u001b[32m    311\u001b[39m     \u001b[38;5;28;01mif\u001b[39;00m \u001b[38;5;28misinstance\u001b[39m(opt, ModelOptimizerPass) \u001b[38;5;129;01mand\u001b[39;00m opt_name \u001b[38;5;129;01mnot\u001b[39;00m \u001b[38;5;129;01min\u001b[39;00m applied_passes:\n\u001b[32m--> \u001b[39m\u001b[32m312\u001b[39m         res = \u001b[43mopt\u001b[49m\u001b[43m.\u001b[49m\u001b[43mtransform\u001b[49m\u001b[43m(\u001b[49m\u001b[43mmodel\u001b[49m\u001b[43m)\u001b[49m\n\u001b[32m    313\u001b[39m         \u001b[38;5;28;01mif\u001b[39;00m res:\n\u001b[32m    314\u001b[39m             applied_passes.add(opt_name)\n",
      "\u001b[36mFile \u001b[39m\u001b[32mc:\\Users\\calvi\\Documents\\Projects\\dca_lab_3\\.venv\\Lib\\site-packages\\hls4ml\\model\\optimizer\\optimizer.py:94\u001b[39m, in \u001b[36mModelOptimizerPass.transform\u001b[39m\u001b[34m(self, model)\u001b[39m\n\u001b[32m     93\u001b[39m \u001b[38;5;28;01mdef\u001b[39;00m\u001b[38;5;250m \u001b[39m\u001b[34mtransform\u001b[39m(\u001b[38;5;28mself\u001b[39m, model):\n\u001b[32m---> \u001b[39m\u001b[32m94\u001b[39m     retval = \u001b[38;5;28;43mself\u001b[39;49m\u001b[43m.\u001b[49m\u001b[43mtransform_func\u001b[49m\u001b[43m(\u001b[49m\u001b[43mmodel\u001b[49m\u001b[43m)\u001b[49m\n\u001b[32m     95\u001b[39m     \u001b[38;5;28;01mreturn\u001b[39;00m retval \u001b[38;5;28;01mif\u001b[39;00m retval \u001b[38;5;129;01mis\u001b[39;00m \u001b[38;5;129;01mnot\u001b[39;00m \u001b[38;5;28;01mNone\u001b[39;00m \u001b[38;5;28;01melse\u001b[39;00m \u001b[38;5;28;01mFalse\u001b[39;00m\n",
      "\u001b[36mFile \u001b[39m\u001b[32mc:\\Users\\calvi\\Documents\\Projects\\dca_lab_3\\.venv\\Lib\\site-packages\\hls4ml\\backends\\fpga\\fpga_backend.py:945\u001b[39m, in \u001b[36mFPGABackend.write_hls\u001b[39m\u001b[34m(self, model)\u001b[39m\n\u001b[32m    943\u001b[39m \u001b[38;5;129m@model_optimizer\u001b[39m()\n\u001b[32m    944\u001b[39m \u001b[38;5;28;01mdef\u001b[39;00m\u001b[38;5;250m \u001b[39m\u001b[34mwrite_hls\u001b[39m(\u001b[38;5;28mself\u001b[39m, model):\n\u001b[32m--> \u001b[39m\u001b[32m945\u001b[39m     \u001b[38;5;28;43mself\u001b[39;49m\u001b[43m.\u001b[49m\u001b[43mwriter\u001b[49m\u001b[43m.\u001b[49m\u001b[43mwrite_hls\u001b[49m\u001b[43m(\u001b[49m\u001b[43mmodel\u001b[49m\u001b[43m)\u001b[49m\n\u001b[32m    946\u001b[39m     \u001b[38;5;28;01mreturn\u001b[39;00m \u001b[38;5;28;01mTrue\u001b[39;00m\n",
      "\u001b[36mFile \u001b[39m\u001b[32mc:\\Users\\calvi\\Documents\\Projects\\dca_lab_3\\.venv\\Lib\\site-packages\\hls4ml\\writer\\vivado_accelerator_writer.py:431\u001b[39m, in \u001b[36mVivadoAcceleratorWriter.write_hls\u001b[39m\u001b[34m(self, model)\u001b[39m\n\u001b[32m    429\u001b[39m \u001b[38;5;28mself\u001b[39m.write_board_script(model)\n\u001b[32m    430\u001b[39m \u001b[38;5;28mself\u001b[39m.write_driver(model)\n\u001b[32m--> \u001b[39m\u001b[32m431\u001b[39m \u001b[38;5;28;43mself\u001b[39;49m\u001b[43m.\u001b[49m\u001b[43mwrite_wrapper_test\u001b[49m\u001b[43m(\u001b[49m\u001b[43mmodel\u001b[49m\u001b[43m)\u001b[49m\n\u001b[32m    432\u001b[39m \u001b[38;5;28mself\u001b[39m.write_axi_wrapper(model)\n\u001b[32m    433\u001b[39m \u001b[38;5;28mself\u001b[39m.modify_build_script(model)\n",
      "\u001b[36mFile \u001b[39m\u001b[32mc:\\Users\\calvi\\Documents\\Projects\\dca_lab_3\\.venv\\Lib\\site-packages\\hls4ml\\writer\\vivado_accelerator_writer.py:328\u001b[39m, in \u001b[36mVivadoAcceleratorWriter.write_wrapper_test\u001b[39m\u001b[34m(self, model)\u001b[39m\n\u001b[32m    326\u001b[39m f.close()\n\u001b[32m    327\u001b[39m fout.close()\n\u001b[32m--> \u001b[39m\u001b[32m328\u001b[39m \u001b[43mos\u001b[49m\u001b[43m.\u001b[49m\u001b[43mrename\u001b[49m\u001b[43m(\u001b[49m\u001b[43mnewfile\u001b[49m\u001b[43m,\u001b[49m\u001b[43m \u001b[49m\u001b[43moldfile\u001b[49m\u001b[43m)\u001b[49m\n\u001b[32m    330\u001b[39m \u001b[38;5;66;03m###################\u001b[39;00m\n\u001b[32m    331\u001b[39m \u001b[38;5;66;03m# write myproject_bridge_wrapper.cpp\u001b[39;00m\n\u001b[32m    332\u001b[39m \u001b[38;5;66;03m###################\u001b[39;00m\n\u001b[32m    333\u001b[39m oldfile = \u001b[33mf\u001b[39m\u001b[33m'\u001b[39m\u001b[38;5;132;01m{\u001b[39;00mmodel.config.get_output_dir()\u001b[38;5;132;01m}\u001b[39;00m\u001b[33m/\u001b[39m\u001b[38;5;132;01m{\u001b[39;00mmodel.config.get_project_name()\u001b[38;5;132;01m}\u001b[39;00m\u001b[33m_bridge.cpp\u001b[39m\u001b[33m'\u001b[39m\n",
      "\u001b[31mFileExistsError\u001b[39m: [WinError 183] Cannot create a file when that file already exists: 'output/myproject_test_wrapper.cpp' -> 'output/myproject_test.cpp'"
     ]
    }
   ],
   "source": [
    "import hls4ml\n",
    "config = hls4ml.utils.config_from_pytorch_model(\n",
    "     model,\n",
    "     input_shape=(1, 784),\n",
    "     granularity='name',\n",
    "     default_precision='fixed<16,6>',\n",
    "     backend='Catapult')\n",
    "\n",
    "hls_model = hls4ml.converters.convert_from_pytorch_model(\n",
    "     model,\n",
    "     hls_config=config,\n",
    "     output_dir=\"output\",\n",
    "     backend='VivadoAccelerator',\n",
    "     io_type='io_stream',\n",
    "     board='pynq-z2',\n",
    "  )\n",
    "\n",
    "hls_model.compile()\n",
    "# hls_model.build(reset=True)\n",
    "numpy_img = img.numpy()\n",
    "hls_prediction = hls_model.predict(numpy_img)\n",
    "print(type(hls_prediction))\n",
    "\n",
    "\n"
   ]
  },
  {
   "cell_type": "code",
   "execution_count": null,
   "id": "aeaaf136",
   "metadata": {},
   "outputs": [],
   "source": [
    "hls_model.build(bitfile=True)"
   ]
  },
  {
   "cell_type": "code",
   "execution_count": null,
   "id": "76aabe2b",
   "metadata": {},
   "outputs": [],
   "source": []
  }
 ],
 "metadata": {
  "kernelspec": {
   "display_name": ".venv",
   "language": "python",
   "name": "python3"
  },
  "language_info": {
   "codemirror_mode": {
    "name": "ipython",
    "version": 3
   },
   "file_extension": ".py",
   "mimetype": "text/x-python",
   "name": "python",
   "nbconvert_exporter": "python",
   "pygments_lexer": "ipython3",
   "version": "3.12.6"
  }
 },
 "nbformat": 4,
 "nbformat_minor": 5
}
